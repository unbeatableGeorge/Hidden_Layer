{
 "cells": [
  {
   "metadata": {
    "collapsed": true,
    "ExecuteTime": {
     "end_time": "2025-09-03T13:20:45.813529Z",
     "start_time": "2025-09-03T13:20:45.809591Z"
    }
   },
   "cell_type": "code",
   "source": [
    "from importlib.metadata import entry_points\n",
    "\n",
    "import torch\n",
    "import torch.nn as nn\n",
    "from torch import functional as F\n",
    "from d2l import torch as d2l"
   ],
   "id": "initial_id",
   "outputs": [],
   "execution_count": 61
  },
  {
   "metadata": {
    "ExecuteTime": {
     "end_time": "2025-09-03T13:20:45.850607Z",
     "start_time": "2025-09-03T13:20:45.818370Z"
    }
   },
   "cell_type": "code",
   "source": [
    "batch_size = 128\n",
    "train_iter, test_iter = d2l.load_data_fashion_mnist(batch_size, resize=24)"
   ],
   "id": "d6f409a4b9e88930",
   "outputs": [],
   "execution_count": 62
  },
  {
   "metadata": {
    "ExecuteTime": {
     "end_time": "2025-09-03T13:20:45.861068Z",
     "start_time": "2025-09-03T13:20:45.858449Z"
    }
   },
   "cell_type": "code",
   "source": [
    "class Model(nn.Module):\n",
    "    def __init__(self, input_size, hidden_size, num_classes):\n",
    "        super().__init__()\n",
    "        self.layer1 = nn.Linear(input_size, hidden_size)\n",
    "        self.layer2 = nn.Linear(hidden_size, num_classes)\n",
    "        self.relu = nn.ReLU()\n",
    "\n",
    "    def forward(self, x):\n",
    "        x = torch.relu(self.layer1(x))\n",
    "        x = self.layer2(x)\n",
    "        x = self.relu(x)\n",
    "        return x\n"
   ],
   "id": "3c0a88d09dc7b9d2",
   "outputs": [],
   "execution_count": 63
  },
  {
   "metadata": {
    "ExecuteTime": {
     "end_time": "2025-09-03T13:20:45.870150Z",
     "start_time": "2025-09-03T13:20:45.867812Z"
    }
   },
   "cell_type": "code",
   "source": [
    "MLP = nn.Sequential(nn.Flatten(),\n",
    "                    Model(24 * 24, 128, 20),\n",
    "                    nn.Linear(20, 10))"
   ],
   "id": "2fd066be5923d1a8",
   "outputs": [],
   "execution_count": 64
  },
  {
   "metadata": {
    "ExecuteTime": {
     "end_time": "2025-09-03T13:20:45.879995Z",
     "start_time": "2025-09-03T13:20:45.876917Z"
    }
   },
   "cell_type": "code",
   "source": [
    "X = torch.randn(batch_size, 24 * 24)\n",
    "\n",
    "for layer in MLP:\n",
    "    X = layer(X)\n",
    "    print(layer.__class__.__name__, \"\\t\", X.shape)"
   ],
   "id": "1df134dc46414d07",
   "outputs": [
    {
     "name": "stdout",
     "output_type": "stream",
     "text": [
      "Flatten \t torch.Size([128, 576])\n",
      "Model \t torch.Size([128, 20])\n",
      "Linear \t torch.Size([128, 10])\n"
     ]
    }
   ],
   "execution_count": 65
  },
  {
   "metadata": {
    "ExecuteTime": {
     "end_time": "2025-09-03T13:20:45.888775Z",
     "start_time": "2025-09-03T13:20:45.886827Z"
    }
   },
   "cell_type": "code",
   "source": "loss = nn.CrossEntropyLoss()",
   "id": "f4de2d74a00ee86",
   "outputs": [],
   "execution_count": 66
  },
  {
   "metadata": {
    "ExecuteTime": {
     "end_time": "2025-09-03T13:20:45.896899Z",
     "start_time": "2025-09-03T13:20:45.894958Z"
    }
   },
   "cell_type": "code",
   "source": "trainer = torch.optim.SGD(MLP.parameters(), lr=0.01)",
   "id": "b813a8b591fa969a",
   "outputs": [],
   "execution_count": 67
  },
  {
   "metadata": {
    "ExecuteTime": {
     "end_time": "2025-09-03T13:21:19.075437Z",
     "start_time": "2025-09-03T13:20:45.903420Z"
    }
   },
   "cell_type": "code",
   "source": [
    "epochs = 10\n",
    "\n",
    "for epoch in range(epochs):\n",
    "    for X, y in train_iter:\n",
    "        y_hat = MLP(X)\n",
    "        l = loss(y_hat, y)\n",
    "        trainer.zero_grad()\n",
    "        l.backward()\n",
    "        trainer.step()\n",
    "    train_feature, train_label = next(iter(train_iter))\n",
    "    print(\"loss:\", loss(MLP(train_feature), train_label).item(), \"accuracy: \")"
   ],
   "id": "89f5fb1c7a1ec413",
   "outputs": [
    {
     "name": "stdout",
     "output_type": "stream",
     "text": [
      "loss: tensor(1.4840, grad_fn=<NllLossBackward0>)\n",
      "loss: tensor(0.9873, grad_fn=<NllLossBackward0>)\n",
      "loss: tensor(0.8792, grad_fn=<NllLossBackward0>)\n",
      "loss: tensor(0.7267, grad_fn=<NllLossBackward0>)\n",
      "loss: tensor(0.5463, grad_fn=<NllLossBackward0>)\n",
      "loss: tensor(0.5239, grad_fn=<NllLossBackward0>)\n",
      "loss: tensor(0.5120, grad_fn=<NllLossBackward0>)\n",
      "loss: tensor(0.6463, grad_fn=<NllLossBackward0>)\n",
      "loss: tensor(0.6278, grad_fn=<NllLossBackward0>)\n",
      "loss: tensor(0.5028, grad_fn=<NllLossBackward0>)\n"
     ]
    }
   ],
   "execution_count": 68
  },
  {
   "metadata": {
    "ExecuteTime": {
     "end_time": "2025-09-03T13:25:31.266094Z",
     "start_time": "2025-09-03T13:25:31.261487Z"
    }
   },
   "cell_type": "code",
   "source": [
    "logits = MLP(train_feature)               # [batch, num_classes]\n",
    "pred = torch.argmax(logits, dim=1)\n",
    "pred"
   ],
   "id": "b765b8b0ab1f98de",
   "outputs": [
    {
     "data": {
      "text/plain": [
       "tensor([0, 9, 7, 5, 0, 0, 3, 4, 1, 8, 8, 4, 0, 1, 6, 6, 4, 1, 7, 5, 6, 1, 3, 1,\n",
       "        8, 8, 9, 3, 8, 9, 3, 8, 1, 2, 0, 8, 3, 5, 2, 5, 0, 1, 0, 3, 5, 5, 8, 7,\n",
       "        3, 4, 2, 5, 5, 3, 0, 0, 9, 1, 6, 8, 0, 7, 4, 0, 8, 1, 5, 7, 0, 3, 9, 0,\n",
       "        0, 6, 5, 4, 8, 9, 2, 4, 2, 6, 0, 3, 7, 6, 9, 6, 9, 3, 7, 1, 6, 6, 5, 9,\n",
       "        5, 4, 6, 9, 1, 9, 9, 1, 7, 1, 1, 7, 1, 5, 8, 5, 8, 3, 3, 3, 4, 3, 1, 6,\n",
       "        9, 9, 2, 2, 7, 2, 9, 9])"
      ]
     },
     "execution_count": 74,
     "metadata": {},
     "output_type": "execute_result"
    }
   ],
   "execution_count": 74
  },
  {
   "metadata": {
    "ExecuteTime": {
     "end_time": "2025-09-03T13:25:53.245461Z",
     "start_time": "2025-09-03T13:25:53.241610Z"
    }
   },
   "cell_type": "code",
   "source": [
    "correct = (pred == train_label).sum().item()        # 正确数\n",
    "correct, train_label.shape"
   ],
   "id": "16c2729a865c53a",
   "outputs": [
    {
     "data": {
      "text/plain": [
       "(101, torch.Size([128]))"
      ]
     },
     "execution_count": 77,
     "metadata": {},
     "output_type": "execute_result"
    }
   ],
   "execution_count": 77
  },
  {
   "metadata": {
    "ExecuteTime": {
     "end_time": "2025-09-03T13:25:53.524006Z",
     "start_time": "2025-09-03T13:25:53.520966Z"
    }
   },
   "cell_type": "code",
   "source": "acc = correct / train_label.size(0)                 # 准确率",
   "id": "7897a77d84e5a624",
   "outputs": [],
   "execution_count": 78
  },
  {
   "metadata": {
    "ExecuteTime": {
     "end_time": "2025-09-03T13:25:54.267650Z",
     "start_time": "2025-09-03T13:25:54.264194Z"
    }
   },
   "cell_type": "code",
   "source": "print(\"accuracy:\", acc)",
   "id": "9f4be8eb1e9a0dbf",
   "outputs": [
    {
     "name": "stdout",
     "output_type": "stream",
     "text": [
      "accuracy: 0.7890625\n"
     ]
    }
   ],
   "execution_count": 79
  }
 ],
 "metadata": {
  "kernelspec": {
   "display_name": "Python 3",
   "language": "python",
   "name": "python3"
  },
  "language_info": {
   "codemirror_mode": {
    "name": "ipython",
    "version": 2
   },
   "file_extension": ".py",
   "mimetype": "text/x-python",
   "name": "python",
   "nbconvert_exporter": "python",
   "pygments_lexer": "ipython2",
   "version": "2.7.6"
  }
 },
 "nbformat": 4,
 "nbformat_minor": 5
}
