{
 "cells": [
  {
   "cell_type": "code",
   "id": "initial_id",
   "metadata": {
    "collapsed": true,
    "ExecuteTime": {
     "end_time": "2025-08-23T12:35:08.086624Z",
     "start_time": "2025-08-23T12:35:08.075874Z"
    }
   },
   "source": [
    "import torch\n",
    "from torch import nn\n",
    "\n",
    "net = nn.Sequential(nn.Linear(4, 8), nn.ReLU(), nn.Linear(8, 1))\n",
    "X = torch.rand(size=(2, 4))\n",
    "net(X).detach().numpy()"
   ],
   "outputs": [
    {
     "data": {
      "text/plain": [
       "array([[-0.31959143],\n",
       "       [-0.32985747]], dtype=float32)"
      ]
     },
     "execution_count": 17,
     "metadata": {},
     "output_type": "execute_result"
    }
   ],
   "execution_count": 17
  },
  {
   "metadata": {
    "ExecuteTime": {
     "end_time": "2025-08-23T12:35:08.125143Z",
     "start_time": "2025-08-23T12:35:08.121685Z"
    }
   },
   "cell_type": "code",
   "source": [
    "# get parameter in net\n",
    "print(net[0])\n",
    "print(net.state_dict())"
   ],
   "id": "c1349e532fc0064b",
   "outputs": [
    {
     "name": "stdout",
     "output_type": "stream",
     "text": [
      "Linear(in_features=4, out_features=8, bias=True)\n",
      "OrderedDict([('0.weight', tensor([[ 0.0203,  0.1810,  0.3190, -0.2308],\n",
      "        [-0.3013, -0.0021,  0.4151, -0.3220],\n",
      "        [ 0.0961,  0.1712,  0.4659, -0.3329],\n",
      "        [-0.0903,  0.1003, -0.3421, -0.3192],\n",
      "        [-0.0271, -0.3197, -0.1982, -0.4687],\n",
      "        [ 0.1530,  0.4116, -0.0981,  0.1409],\n",
      "        [-0.2566,  0.3544,  0.0208,  0.0007],\n",
      "        [-0.2225, -0.0326, -0.4258, -0.1919]])), ('0.bias', tensor([-0.4461,  0.3284, -0.0607,  0.4822, -0.2166, -0.3288,  0.2285, -0.2834])), ('2.weight', tensor([[-0.1623, -0.1526, -0.2662,  0.0235,  0.0949, -0.0439, -0.1812,  0.2690]])), ('2.bias', tensor([-0.1751]))])\n"
     ]
    }
   ],
   "execution_count": 18
  },
  {
   "metadata": {
    "ExecuteTime": {
     "end_time": "2025-08-23T12:35:08.202617Z",
     "start_time": "2025-08-23T12:35:08.199760Z"
    }
   },
   "cell_type": "code",
   "source": [
    "print(type(net[2].bias))\n",
    "print(net[2].bias)\n",
    "print(net[2].bias.data)"
   ],
   "id": "25aa74bd8b4c80d3",
   "outputs": [
    {
     "name": "stdout",
     "output_type": "stream",
     "text": [
      "<class 'torch.nn.parameter.Parameter'>\n",
      "Parameter containing:\n",
      "tensor([-0.1751], requires_grad=True)\n",
      "tensor([-0.1751])\n"
     ]
    }
   ],
   "execution_count": 19
  },
  {
   "metadata": {
    "ExecuteTime": {
     "end_time": "2025-08-23T12:35:08.290499Z",
     "start_time": "2025-08-23T12:35:08.287578Z"
    }
   },
   "cell_type": "code",
   "source": "net[2].weight.grad is None",
   "id": "3f79ea44a904b560",
   "outputs": [
    {
     "data": {
      "text/plain": [
       "True"
      ]
     },
     "execution_count": 20,
     "metadata": {},
     "output_type": "execute_result"
    }
   ],
   "execution_count": 20
  },
  {
   "metadata": {
    "ExecuteTime": {
     "end_time": "2025-08-23T12:35:08.341713Z",
     "start_time": "2025-08-23T12:35:08.339203Z"
    }
   },
   "cell_type": "code",
   "source": [
    "print(*[(name, param.shape) for name, param in net[0].named_parameters()])\n",
    "print(* [(name, param.shape) for name, param in net.named_parameters()]) # == state_dict()"
   ],
   "id": "ccafa7cc6fadac5",
   "outputs": [
    {
     "name": "stdout",
     "output_type": "stream",
     "text": [
      "('weight', torch.Size([8, 4])) ('bias', torch.Size([8]))\n",
      "('0.weight', torch.Size([8, 4])) ('0.bias', torch.Size([8])) ('2.weight', torch.Size([1, 8])) ('2.bias', torch.Size([1]))\n"
     ]
    }
   ],
   "execution_count": 21
  },
  {
   "metadata": {},
   "cell_type": "code",
   "source": [
    "def init_normal(m):\n",
    "    if type(m) == nn.Linear:\n",
    "        nn.init.normal_(m.weight, mean=0, std=0.01)\n",
    "        nn.init.zeros_(m.bias)\n",
    "net.apply(init_normal)\n",
    "net[0].weight.data[0], net[0].bias.data[0]\n"
   ],
   "id": "8acc14620defc433",
   "outputs": [],
   "execution_count": null
  },
  {
   "metadata": {
    "ExecuteTime": {
     "end_time": "2025-08-23T12:37:46.785503Z",
     "start_time": "2025-08-23T12:37:46.770246Z"
    }
   },
   "cell_type": "code",
   "outputs": [
    {
     "data": {
      "text/plain": [
       "(tensor([1., 1., 1., 1.]), tensor(0.))"
      ]
     },
     "execution_count": 22,
     "metadata": {},
     "output_type": "execute_result"
    }
   ],
   "execution_count": 22,
   "source": [
    "\n",
    "def init_constant(m):\n",
    "    if type(m) == nn.Linear:\n",
    "        nn.init.constant_(m.weight, 1)\n",
    "        nn.init.zeros_(m.bias)\n",
    "net.apply(init_constant)\n",
    "net[0].weight.data[0], net[0].bias.data[0]"
   ],
   "id": "3a61f8b3a66daa44"
  },
  {
   "metadata": {
    "ExecuteTime": {
     "end_time": "2025-08-23T12:38:31.095197Z",
     "start_time": "2025-08-23T12:38:31.088194Z"
    }
   },
   "cell_type": "code",
   "source": [
    "def init_xavier(m):\n",
    "    if type(m) == nn.Linear:\n",
    "        nn.init.xavier_uniform_(m.weight)\n",
    "\n",
    "def init_42(m):\n",
    "    if type(m) == nn.Linear:\n",
    "        nn.init.constant_(m.weight, 42)\n",
    "\n",
    "net[0].apply(init_xavier)\n",
    "net[2].apply(init_42)\n",
    "print(net[0].weight.data[0])\n",
    "print(net[2].weight.data)\n",
    "\n",
    "# more parameter init way is in the link\n",
    "# https://zh.d2l.ai/chapter_deep-learning-computation/parameters.html"
   ],
   "id": "fb019d04a00ad30d",
   "outputs": [
    {
     "name": "stdout",
     "output_type": "stream",
     "text": [
      "tensor([ 0.0397, -0.6938, -0.1854, -0.0699])\n",
      "tensor([[42., 42., 42., 42., 42., 42., 42., 42.]])\n"
     ]
    }
   ],
   "execution_count": 23
  }
 ],
 "metadata": {
  "kernelspec": {
   "display_name": "Python (py38)",
   "language": "python",
   "name": "py38"
  },
  "language_info": {
   "codemirror_mode": {
    "name": "ipython",
    "version": 2
   },
   "file_extension": ".py",
   "mimetype": "text/x-python",
   "name": "python",
   "nbconvert_exporter": "python",
   "pygments_lexer": "ipython2",
   "version": "2.7.6"
  }
 },
 "nbformat": 4,
 "nbformat_minor": 5
}
