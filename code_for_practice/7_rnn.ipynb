{
 "cells": [
  {
   "cell_type": "code",
   "id": "initial_id",
   "metadata": {
    "collapsed": true,
    "ExecuteTime": {
     "end_time": "2025-08-24T09:47:25.377517Z",
     "start_time": "2025-08-24T09:47:22.435625Z"
    }
   },
   "source": [
    "import torch\n",
    "from torch import nn\n",
    "from torch.nn import functional as F\n",
    "from d2l import torch as d2l\n",
    "\n",
    "batch_size, num_steps = 32, 35\n",
    "train_iter, vocab = d2l.load_data_time_machine(batch_size, num_steps)"
   ],
   "outputs": [
    {
     "name": "stdout",
     "output_type": "stream",
     "text": [
      "Downloading ../data/timemachine.txt from http://d2l-data.s3-accelerate.amazonaws.com/timemachine.txt...\n"
     ]
    }
   ],
   "execution_count": 2
  },
  {
   "metadata": {
    "ExecuteTime": {
     "end_time": "2025-08-24T11:53:43.084259Z",
     "start_time": "2025-08-24T11:53:43.054514Z"
    }
   },
   "cell_type": "code",
   "source": "F.one_hot(torch.tensor([0, 2]), len(vocab))",
   "id": "ec1f65d6b6e3036c",
   "outputs": [
    {
     "data": {
      "text/plain": [
       "tensor([[1, 0, 0, 0, 0, 0, 0, 0, 0, 0, 0, 0, 0, 0, 0, 0, 0, 0, 0, 0, 0, 0, 0, 0,\n",
       "         0, 0, 0, 0],\n",
       "        [0, 0, 1, 0, 0, 0, 0, 0, 0, 0, 0, 0, 0, 0, 0, 0, 0, 0, 0, 0, 0, 0, 0, 0,\n",
       "         0, 0, 0, 0]])"
      ]
     },
     "execution_count": 17,
     "metadata": {},
     "output_type": "execute_result"
    }
   ],
   "execution_count": 17
  },
  {
   "metadata": {
    "ExecuteTime": {
     "end_time": "2025-08-24T11:55:52.614118Z",
     "start_time": "2025-08-24T11:55:52.603887Z"
    }
   },
   "cell_type": "code",
   "source": [
    "X = torch.arange(10).reshape(2, 5)\n",
    "# [5, 2, 10] ---- [time_step, batch_size, vocab_size]\n",
    "F.one_hot(X.T, 10).shape"
   ],
   "id": "fcb8a2f624bc0948",
   "outputs": [
    {
     "data": {
      "text/plain": [
       "torch.Size([5, 2, 10])"
      ]
     },
     "execution_count": 19,
     "metadata": {},
     "output_type": "execute_result"
    }
   ],
   "execution_count": 19
  },
  {
   "metadata": {},
   "cell_type": "code",
   "outputs": [],
   "execution_count": null,
   "source": [
    "# init params in model\n",
    "def init_params(vocab_size, num_hiddens, device):\n",
    "    num_input = num_output = vocab_size\n",
    "\n",
    "    def normal(shape):\n",
    "        return torch.randn(shape, device=device) * 0.01\n",
    "\n",
    "    W_xh = normal((num_input, num_hiddens))\n",
    "    W_hh = normal((num_hiddens, num_hiddens))\n",
    "    b_h  = torch.zeros(num_hiddens, device=device)\n",
    "\n",
    "    W_hq = normal((num_hiddens, num_output))\n",
    "    b_q  = torch.zeros(num_output, device=device)\n",
    "\n",
    "    params = [W_xh, W_hh, b_h, W_hq, b_q]\n",
    "    for param in params:\n",
    "        param.requires_grad_(True)\n",
    "\n",
    "    return params"
   ],
   "id": "288585db8845d90d"
  },
  {
   "metadata": {
    "ExecuteTime": {
     "end_time": "2025-08-24T12:08:17.112987Z",
     "start_time": "2025-08-24T12:08:17.109718Z"
    }
   },
   "cell_type": "code",
   "source": [
    "# init hidden state in rnn\n",
    "def init_hidden_state(batch_size, num_hiddens, device):\n",
    "    return torch.zeros(batch_size, num_hiddens, device=device)"
   ],
   "id": "74f0a7b3f4f5c5ff",
   "outputs": [],
   "execution_count": 23
  },
  {
   "metadata": {},
   "cell_type": "code",
   "outputs": [],
   "execution_count": null,
   "source": [
    "# model: rnn\n",
    "def rnn_model(inputs, hidden_state, params):\n",
    "    # inputs: [time_step, batch_size, vocab_size]\n",
    "    W_xh, W_hh, b_h, W_hq, b_q = params\n",
    "    H, = hidden_state\n",
    "    outputs = []\n",
    "    for X in inputs:\n",
    "        H = torch.tanh(X @ W_xh + H @ W_hh + b_h)\n",
    "        Y = H * W_hq + b_q\n",
    "        outputs.append(Y)\n",
    "    return torch.cat(outputs, dim = 0), (H,)"
   ],
   "id": "6ce0b29f7dfbe46b"
  },
  {
   "metadata": {},
   "cell_type": "code",
   "outputs": [],
   "execution_count": null,
   "source": "\n",
   "id": "88ca3b46046e6e6d"
  },
  {
   "metadata": {
    "ExecuteTime": {
     "end_time": "2025-08-24T12:27:33.458429Z",
     "start_time": "2025-08-24T12:27:33.448642Z"
    }
   },
   "cell_type": "code",
   "source": [
    "# practice -- dimension\n",
    "a = torch.randn(2, 5)\n",
    "b = torch.randn(2, 5)\n",
    "torch.stack((a, b), dim = 0).permute(1, 0, 2) == torch.stack((a, b), dim = 1)"
   ],
   "id": "86987091fe67b843",
   "outputs": [
    {
     "data": {
      "text/plain": [
       "tensor([[[True, True, True, True, True],\n",
       "         [True, True, True, True, True]],\n",
       "\n",
       "        [[True, True, True, True, True],\n",
       "         [True, True, True, True, True]]])"
      ]
     },
     "execution_count": 41,
     "metadata": {},
     "output_type": "execute_result"
    }
   ],
   "execution_count": 41
  }
 ],
 "metadata": {
  "kernelspec": {
   "display_name": "Python 3",
   "language": "python",
   "name": "python3"
  },
  "language_info": {
   "codemirror_mode": {
    "name": "ipython",
    "version": 2
   },
   "file_extension": ".py",
   "mimetype": "text/x-python",
   "name": "python",
   "nbconvert_exporter": "python",
   "pygments_lexer": "ipython2",
   "version": "2.7.6"
  }
 },
 "nbformat": 4,
 "nbformat_minor": 5
}
