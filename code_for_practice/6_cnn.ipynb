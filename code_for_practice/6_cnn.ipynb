{
 "cells": [
  {
   "cell_type": "code",
   "execution_count": 1,
   "id": "initial_id",
   "metadata": {
    "jupyter": {
     "is_executing": true
    }
   },
   "outputs": [],
   "source": [
    "# cnn practice\n",
    "import torch\n",
    "from d2l import torch as d2l\n",
    "from torch.nn import functional as F\n",
    "from torch import nn"
   ]
  },
  {
   "cell_type": "code",
   "execution_count": 2,
   "id": "9898a2cebf14f728",
   "metadata": {
    "ExecuteTime": {
     "end_time": "2025-08-24T06:31:41.658538Z",
     "start_time": "2025-08-24T06:31:41.609593Z"
    }
   },
   "outputs": [],
   "source": [
    "# batch size and data iter\n",
    "lr, num_epochs, batch_size = 0.05, 10, 256\n",
    "train_iter, test_iter = d2l.load_data_fashion_mnist(batch_size, resize=96)"
   ]
  },
  {
   "cell_type": "code",
   "execution_count": 3,
   "id": "85e8c6a9-88ef-4a1c-aa1a-d26242de2b41",
   "metadata": {
    "ExecuteTime": {
     "end_time": "2025-08-24T06:31:41.667186Z",
     "start_time": "2025-08-24T06:31:41.664262Z"
    }
   },
   "outputs": [],
   "source": [
    "# model: Residual blk\n",
    "class Residual(nn.Module):\n",
    "    def __init__(self, input_channels, output_channels, use_1x1conv = False, strides = 1):\n",
    "        super().__init__()\n",
    "        self.conv1 = nn.Conv2d(input_channels, output_channels, \n",
    "                               kernel_size = 3, padding = 1, stride = strides)\n",
    "        self.conv2 = nn.Conv2d(output_channels, output_channels, \n",
    "                               kernel_size = 3, padding = 1)\n",
    "\n",
    "        if use_1x1conv:\n",
    "            self.conv3 = nn.Conv2d(input_channels, output_channels, \n",
    "                                   kernel_size = 1, stride = strides)\n",
    "        else:\n",
    "            self.conv3 = None\n",
    "\n",
    "        self.bn1 = nn.BatchNorm2d(output_channels)\n",
    "        self.bn2 = nn.BatchNorm2d(output_channels)\n",
    "\n",
    "    def forward(self, X):\n",
    "        Y = self.bn2(self.conv2(F.relu(self.bn1(self.conv1(X)))))\n",
    "        if self.conv3:\n",
    "            X = self.conv3(X)\n",
    "        Y += X\n",
    "        return F.relu(Y)"
   ]
  },
  {
   "cell_type": "code",
   "execution_count": 4,
   "id": "2bb964b9ec60f959",
   "metadata": {
    "ExecuteTime": {
     "end_time": "2025-08-24T06:31:41.675822Z",
     "start_time": "2025-08-24T06:31:41.672370Z"
    }
   },
   "outputs": [
    {
     "data": {
      "text/plain": [
       "torch.Size([3, 4, 6, 6])"
      ]
     },
     "execution_count": 4,
     "metadata": {},
     "output_type": "execute_result"
    }
   ],
   "source": [
    "# test Residual blk\n",
    "blk = Residual(3, 4, True)\n",
    "X = torch.randn(3, 3, 6, 6)\n",
    "blk(X).shape"
   ]
  },
  {
   "cell_type": "code",
   "execution_count": 5,
   "id": "d07fc9a1-e3b5-4393-ad41-494011408e80",
   "metadata": {},
   "outputs": [],
   "source": [
    "# build resNet\n",
    "b1 = nn.Sequential(nn.Conv2d(1, 64, kernel_size=7, stride = 2, padding = 3),\n",
    "                   nn.BatchNorm2d(64),\n",
    "                   nn.ReLU(),\n",
    "                   nn.MaxPool2d(kernel_size = 3, stride = 2, padding = 1))\n",
    "\n",
    "def resnet_blk(input_channels, output_channels, number_blk, first_blk = False):\n",
    "    blk = []\n",
    "    for i in range(number_blk):\n",
    "        if i == 0 and not first_blk:\n",
    "            blk.append(Residual(input_channels, output_channels,\n",
    "                                use_1x1conv=True, strides=2))\n",
    "        else:\n",
    "            blk.append(Residual(output_channels, output_channels))\n",
    "    return blk\n",
    "\n",
    "b2 = nn.Sequential(*resnet_blk(64, 64, 2, True))\n",
    "b3 = nn.Sequential(*resnet_blk(64, 128, 2))\n",
    "b4 = nn.Sequential(*resnet_blk(128, 256, 2))\n",
    "b5 = nn.Sequential(*resnet_blk(256, 512, 2))"
   ]
  },
  {
   "cell_type": "code",
   "execution_count": 6,
   "id": "57553e02-4de4-4840-a3b0-61cea94af7d9",
   "metadata": {},
   "outputs": [],
   "source": [
    "# build nets\n",
    "net = nn.Sequential(b1, b2, b3, b4, b5,\n",
    "                    nn.AdaptiveAvgPool2d((1,1)),\n",
    "                    nn.Flatten(), nn.Linear(512, 10))"
   ]
  },
  {
   "cell_type": "code",
   "execution_count": 7,
   "id": "13c9f4b0-cf55-44c5-9283-46db5550b696",
   "metadata": {},
   "outputs": [
    {
     "name": "stdout",
     "output_type": "stream",
     "text": [
      "Sequential output \t torch.Size([1, 64, 56, 56])\n",
      "Sequential output \t torch.Size([1, 64, 56, 56])\n",
      "Sequential output \t torch.Size([1, 128, 28, 28])\n",
      "Sequential output \t torch.Size([1, 256, 14, 14])\n",
      "Sequential output \t torch.Size([1, 512, 7, 7])\n",
      "AdaptiveAvgPool2d output \t torch.Size([1, 512, 1, 1])\n",
      "Flatten output \t torch.Size([1, 512])\n",
      "Linear output \t torch.Size([1, 10])\n"
     ]
    }
   ],
   "source": [
    "# test nets\n",
    "X = torch.rand(size=(1, 1, 224, 224))\n",
    "for layer in net:\n",
    "    X = layer(X)\n",
    "    print(layer.__class__.__name__, \"output \\t\", X.shape)"
   ]
  },
  {
   "cell_type": "code",
   "execution_count": null,
   "id": "631c3600d90b5049",
   "metadata": {},
   "outputs": [],
   "source": [
    "d2l.train_ch6(net, train_iter, test_iter, num_epochs, lr, d2l.try_gpu())\n",
    "\n",
    "# too slow in mac, so no output"
   ]
  }
 ],
 "metadata": {
  "kernelspec": {
   "display_name": "Python (py38)",
   "language": "python",
   "name": "py38"
  },
  "language_info": {
   "codemirror_mode": {
    "name": "ipython",
    "version": 3
   },
   "file_extension": ".py",
   "mimetype": "text/x-python",
   "name": "python",
   "nbconvert_exporter": "python",
   "pygments_lexer": "ipython3",
   "version": "3.8.20"
  }
 },
 "nbformat": 4,
 "nbformat_minor": 5
}
