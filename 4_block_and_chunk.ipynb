{
 "cells": [
  {
   "cell_type": "code",
   "id": "6e220399baaed93a",
   "metadata": {
    "ExecuteTime": {
     "end_time": "2025-08-23T12:04:11.899171Z",
     "start_time": "2025-08-23T12:04:11.896283Z"
    }
   },
   "source": [
    "import torch\n",
    "from torch import nn\n",
    "from torch.nn import functional as F"
   ],
   "outputs": [],
   "execution_count": 55
  },
  {
   "metadata": {
    "collapsed": true,
    "ExecuteTime": {
     "end_time": "2025-08-23T12:04:11.919733Z",
     "start_time": "2025-08-23T12:04:11.917442Z"
    }
   },
   "cell_type": "code",
   "source": [
    "# generate X\n",
    "X = torch.randn((2, 20), requires_grad=True)"
   ],
   "id": "initial_id",
   "outputs": [],
   "execution_count": 56
  },
  {
   "metadata": {
    "ExecuteTime": {
     "end_time": "2025-08-23T12:04:11.928502Z",
     "start_time": "2025-08-23T12:04:11.924116Z"
    }
   },
   "cell_type": "code",
   "source": [
    "# nn.Module for MLP\n",
    "class MLP(nn.Module):\n",
    "    def __init__(self):\n",
    "        super().__init__()\n",
    "        self.hidden = nn.Linear(20, 256)\n",
    "        self.out = nn.Linear(256, 10)\n",
    "\n",
    "    def forward(self, X):\n",
    "        return self.out(F.relu(self.hidden(X)))\n",
    "\n",
    "net = MLP()\n",
    "net(X).detach().numpy()"
   ],
   "id": "a40c1765e583250c",
   "outputs": [
    {
     "data": {
      "text/plain": [
       "array([[ 0.15443158,  0.27320445,  0.18545823,  0.41052157,  0.08764493,\n",
       "        -0.08156813,  0.26313844,  0.24579261, -0.03862309,  0.36557156],\n",
       "       [-0.08770379,  0.18351898,  0.26165506,  0.04121573, -0.27300996,\n",
       "         0.2092031 ,  0.07376558,  0.3835181 , -0.15643279,  0.24441603]],\n",
       "      dtype=float32)"
      ]
     },
     "execution_count": 57,
     "metadata": {},
     "output_type": "execute_result"
    }
   ],
   "execution_count": 57
  },
  {
   "metadata": {
    "ExecuteTime": {
     "end_time": "2025-08-23T12:04:11.965842Z",
     "start_time": "2025-08-23T12:04:11.961720Z"
    }
   },
   "cell_type": "code",
   "source": [
    "# Sequential BLK\n",
    "\n",
    "class MySequential(nn.Module):\n",
    "    def __init__(self, *args):\n",
    "        super().__init__()\n",
    "        for i, module in enumerate(args):\n",
    "            self._modules[str(i)] = module\n",
    "\n",
    "    def forward(self, X):\n",
    "        for blk in self._modules.values():\n",
    "            X = blk(X)\n",
    "        return X\n",
    "\n",
    "net = MySequential(MLP(), nn.Linear(10, 20))\n",
    "net(X).detach().numpy()"
   ],
   "id": "64bb0a0d083a967a",
   "outputs": [
    {
     "data": {
      "text/plain": [
       "array([[-0.21886319,  0.01656903, -0.10178545, -0.300775  , -0.02980975,\n",
       "        -0.25826848,  0.00332622, -0.24216972, -0.35549825,  0.10793746,\n",
       "         0.16377977, -0.22978947,  0.19712415,  0.06184904, -0.0749486 ,\n",
       "        -0.25596613,  0.11900403,  0.38957718,  0.13625267,  0.24976714],\n",
       "       [-0.20817   , -0.16096565, -0.09038559, -0.29355374, -0.2190541 ,\n",
       "        -0.28728032,  0.08058178, -0.25969097, -0.11491592, -0.02254538,\n",
       "         0.01490976, -0.21128692,  0.14241996,  0.06030833, -0.10960078,\n",
       "        -0.23239025,  0.15991119,  0.3589933 ,  0.09074242,  0.23891999]],\n",
       "      dtype=float32)"
      ]
     },
     "execution_count": 58,
     "metadata": {},
     "output_type": "execute_result"
    }
   ],
   "execution_count": 58
  },
  {
   "metadata": {
    "ExecuteTime": {
     "end_time": "2025-08-23T12:04:12.019285Z",
     "start_time": "2025-08-23T12:04:12.015046Z"
    }
   },
   "cell_type": "code",
   "source": [
    "# Fixed Hidden MLP ------- so important !\n",
    "# Fix hidden + parameter-shared linear layer\n",
    "\n",
    "class FixedHiddenMLP(nn.Module):\n",
    "    def __init__(self):\n",
    "        super().__init__()\n",
    "        self.rand_weight = nn.Parameter(torch.randn(10, 20))\n",
    "        self.linear = nn.Linear(20, 10)\n",
    "\n",
    "    def forward(self, X):\n",
    "        X = self.linear(X)\n",
    "        X = F.relu(torch.mm(X, self.rand_weight) + 1)\n",
    "        X = self.linear(X)\n",
    "        # control stream\n",
    "        while X.abs().sum() > 1:\n",
    "            X /= 2\n",
    "        return X.sum()\n",
    "\n",
    "net = FixedHiddenMLP()\n",
    "net(X).detach().numpy()"
   ],
   "id": "801707eaab27dbea",
   "outputs": [
    {
     "data": {
      "text/plain": [
       "array(0.35255978, dtype=float32)"
      ]
     },
     "execution_count": 59,
     "metadata": {},
     "output_type": "execute_result"
    }
   ],
   "execution_count": 59
  },
  {
   "metadata": {
    "ExecuteTime": {
     "end_time": "2025-08-23T12:04:12.050999Z",
     "start_time": "2025-08-23T12:04:12.046384Z"
    }
   },
   "cell_type": "code",
   "source": [
    "# nestedMLP -------- also important !!\n",
    "\n",
    "class NestedMLP(nn.Module):\n",
    "    def __init__(self):\n",
    "        super().__init__()\n",
    "        self.net = nn.Sequential(nn.Linear(20, 64), nn.ReLU(),\n",
    "                                 nn.Linear(64, 20), nn.ReLU(),)\n",
    "        self.linear = nn.Linear(20, 10)\n",
    "\n",
    "    def forward(self, X):\n",
    "        X = self.net(X)\n",
    "        X = F.relu(self.linear(X))\n",
    "        return X\n",
    "\n",
    "net = nn.Sequential(NestedMLP(), nn.Linear(10, 20), nn.ReLU(), FixedHiddenMLP())\n",
    "\n",
    "net(X).detach().numpy()"
   ],
   "id": "2c4e5b1f8f03688c",
   "outputs": [
    {
     "data": {
      "text/plain": [
       "array(0.00620824, dtype=float32)"
      ]
     },
     "execution_count": 60,
     "metadata": {},
     "output_type": "execute_result"
    }
   ],
   "execution_count": 60
  },
  {
   "metadata": {
    "ExecuteTime": {
     "end_time": "2025-08-23T12:04:12.058840Z",
     "start_time": "2025-08-23T12:04:12.057544Z"
    }
   },
   "cell_type": "code",
   "source": "",
   "id": "d000f58cca4c6c6b",
   "outputs": [],
   "execution_count": null
  }
 ],
 "metadata": {
  "kernelspec": {
   "display_name": "Python (py38)",
   "language": "python",
   "name": "py38"
  },
  "language_info": {
   "codemirror_mode": {
    "name": "ipython",
    "version": 2
   },
   "file_extension": ".py",
   "mimetype": "text/x-python",
   "name": "python",
   "nbconvert_exporter": "python",
   "pygments_lexer": "ipython2",
   "version": "2.7.6"
  }
 },
 "nbformat": 4,
 "nbformat_minor": 5
}
