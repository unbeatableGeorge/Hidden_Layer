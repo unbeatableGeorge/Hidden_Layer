{
 "cells": [
  {
   "cell_type": "code",
   "id": "initial_id",
   "metadata": {
    "collapsed": true,
    "ExecuteTime": {
     "end_time": "2025-08-22T12:51:37.614815Z",
     "start_time": "2025-08-22T12:51:37.611085Z"
    }
   },
   "source": [
    "import torch\n",
    "import numpy as np\n",
    "from torch.utils import data\n",
    "from d2l import torch as d2l\n",
    "\n",
    "true_w = torch.tensor([1., 2.])\n",
    "true_b = torch.tensor(5.)\n",
    "features, labels = d2l.synthetic_data(true_w, true_b, 1000)"
   ],
   "outputs": [],
   "execution_count": 65
  },
  {
   "metadata": {
    "ExecuteTime": {
     "end_time": "2025-08-22T12:51:37.619152Z",
     "start_time": "2025-08-22T12:51:37.617071Z"
    }
   },
   "cell_type": "code",
   "source": [
    "def load_array(data_arrays, batch_size, is_training = True):\n",
    "    dataset = data.TensorDataset(*data_arrays)\n",
    "    return data.DataLoader(dataset, batch_size, shuffle = is_training)\n",
    "\n",
    "batch_size = 10\n",
    "data_iter = load_array((features, labels), batch_size, True)"
   ],
   "id": "21c6c98f9f287034",
   "outputs": [],
   "execution_count": 66
  },
  {
   "metadata": {
    "ExecuteTime": {
     "end_time": "2025-08-22T12:51:37.633495Z",
     "start_time": "2025-08-22T12:51:37.629793Z"
    }
   },
   "cell_type": "code",
   "source": [
    "from torch import nn\n",
    "\n",
    "net = nn.Sequential(nn.Linear(2, 1))\n",
    "net[0].weight.data.normal_(0, 0.01)\n",
    "net[0].bias.data.fill_(0)"
   ],
   "id": "884e4e877bcdf790",
   "outputs": [
    {
     "data": {
      "text/plain": [
       "tensor([0.])"
      ]
     },
     "execution_count": 67,
     "metadata": {},
     "output_type": "execute_result"
    }
   ],
   "execution_count": 67
  },
  {
   "metadata": {
    "ExecuteTime": {
     "end_time": "2025-08-22T12:51:37.697648Z",
     "start_time": "2025-08-22T12:51:37.695434Z"
    }
   },
   "cell_type": "code",
   "source": "loss = nn.MSELoss()",
   "id": "60fc8d4f5f3d9007",
   "outputs": [],
   "execution_count": 68
  },
  {
   "metadata": {
    "ExecuteTime": {
     "end_time": "2025-08-22T12:51:37.711947Z",
     "start_time": "2025-08-22T12:51:37.710237Z"
    }
   },
   "cell_type": "code",
   "source": "trainer = torch.optim.SGD(net.parameters(), lr = 0.01)",
   "id": "332976c678f2539e",
   "outputs": [],
   "execution_count": 69
  },
  {
   "metadata": {
    "ExecuteTime": {
     "end_time": "2025-08-22T12:51:37.814173Z",
     "start_time": "2025-08-22T12:51:37.721352Z"
    }
   },
   "cell_type": "code",
   "source": [
    "num_epochs = 10\n",
    "\n",
    "for epoch in range(num_epochs):\n",
    "    for X, y in data_iter:\n",
    "        l = loss(net(X), y)\n",
    "        trainer.zero_grad()\n",
    "        l.backward()\n",
    "        trainer.step()\n",
    "    l = loss(net(features), labels)\n",
    "    print(\"epoch\", epoch + 1, \"loss\", round(float(l), 5))"
   ],
   "id": "84cfdcad91f5db50",
   "outputs": [
    {
     "name": "stdout",
     "output_type": "stream",
     "text": [
      "epoch 1 loss 0.54261\n",
      "epoch 2 loss 0.01031\n",
      "epoch 3 loss 0.0003\n",
      "epoch 4 loss 0.0001\n",
      "epoch 5 loss 0.0001\n",
      "epoch 6 loss 0.0001\n",
      "epoch 7 loss 0.0001\n",
      "epoch 8 loss 0.0001\n",
      "epoch 9 loss 0.0001\n",
      "epoch 10 loss 0.0001\n"
     ]
    }
   ],
   "execution_count": 70
  }
 ],
 "metadata": {
  "kernelspec": {
   "display_name": "Python (py38)",
   "language": "python",
   "name": "py38"
  },
  "language_info": {
   "codemirror_mode": {
    "name": "ipython",
    "version": 2
   },
   "file_extension": ".py",
   "mimetype": "text/x-python",
   "name": "python",
   "nbconvert_exporter": "python",
   "pygments_lexer": "ipython2",
   "version": "2.7.6"
  }
 },
 "nbformat": 4,
 "nbformat_minor": 5
}
